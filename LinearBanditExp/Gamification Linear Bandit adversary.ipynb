{
 "cells": [
  {
   "cell_type": "code",
   "execution_count": 2601,
   "metadata": {},
   "outputs": [],
   "source": [
    "import numpy as np\n",
    "import math\n",
    "\n",
    "t = 0  # number of this round\n",
    "T = 150000  # numbers of rounds\n",
    "l = 30  # ||a|| <= L\n",
    "d = 3 #dimension of arm\n",
    "m = 1 #||theta|| < m\n",
    "theta_stimato = [0.0, 0.0, 0.0] #np.array([])  theta\n",
    "A = [] #collector of arm\n",
    "num_arms = 0 #number of arms\n",
    "num_theta = 0 #num theta\n",
    "Th = [] #collector of theta\n",
    "W = [] #distribution of probability to play arms\n",
    "N = [] #number of times an arm is played\n",
    "Y = [] #collection of reward\n",
    "H = [] #collection of hedge losses\n",
    "L = [] #collection of losses\n",
    "Mixability_Gap = [] #collection ofa all mixability gap at each t\n",
    "AI = [] #number of the arm played at time I\n",
    "nu = 0.01 #regularization paramether\n",
    "eta = 0.1 #learning paramether\n",
    "theta_vero = 0\n",
    "curr_answ = 0\n",
    "\n",
    "def normalize(v):\n",
    "    sum = np.sum(v)\n",
    "    if sum > 0:\n",
    "        return v / sum\n",
    "    else:\n",
    "        return np.array([0.33]*len(v))\n",
    "    \n",
    "class theta():\n",
    "    vector = np.array([])\n",
    "    best_arm = -1\n",
    "    id\n",
    "\n",
    "    def __init__(self, param):\n",
    "        self.vector = param\n",
    "        global Th, num_theta\n",
    "        self.id = num_theta\n",
    "        Th.append(self)\n",
    "        num_theta +=1\n",
    "        #i = 0\n",
    "        #best = -5\n",
    "        #while i < num_arms:\n",
    "            #tmp = np.dot( A[i].arm_vector, np.transpose(self.vector))\n",
    "            #if best < tmp:\n",
    "                #best = tmp\n",
    "                #self.best_arm = i\n",
    "\n",
    "class arm():\n",
    "    arm_vector = np.array([])\n",
    "    id = 0\n",
    "    best_theta = -1\n",
    "\n",
    "    def __init__(self, vector):\n",
    "        self.arm_vector = vector\n",
    "        global num_arms, A\n",
    "        A.append(self)\n",
    "        W.append(0)\n",
    "        N.append(0)\n",
    "        L.append(0)\n",
    "        self.id = num_arms\n",
    "        num_arms +=1\n",
    "        max = -5\n",
    "        for i in range (0, num_theta):\n",
    "            tmp = np.matmul(self.arm_vector, Th[i].vector)\n",
    "            if tmp > max:\n",
    "                self.best_theta = i\n",
    "                max = tmp\n",
    "                            \n",
    "\n",
    "    def pull_arm(self):\n",
    "        y = np.dot(self.arm_vector, np.transpose(Th[theta_vero].vector)) + np.random.normal(0, 1)\n",
    "        Y.append(y)\n",
    "        N[self.id] += 1\n",
    "        AI.append(self.id)\n",
    "        return y\n",
    "        \n",
    "    def norm(self):\n",
    "        return np.linalg.norm(self.arm_vector)\n",
    "\n",
    "def design_matrix(w):\n",
    "    V = []\n",
    "    i = 0\n",
    "    while i < num_arms:\n",
    "        b = [A[i].arm_vector]\n",
    "        a = np.swapaxes(b, 0, 1)\n",
    "        ris = np.matmul(a, b) * w[i]\n",
    "        if (i == 0):\n",
    "            V = ris\n",
    "        else:\n",
    "            V += ris\n",
    "        i+=1\n",
    "    return V\n",
    "\n",
    "def norm_2_mat(x, V):\n",
    "    b = [x]\n",
    "    a = np.swapaxes(b, 0, 1)\n",
    "    ris = np.sqrt(np.matmul(np.matmul(b,V),a))\n",
    "    return ris[0][0]\n",
    "\n",
    "def arm_to_play():\n",
    "    diff = np.array(N) - np.array(W)\n",
    "    i = 0\n",
    "    arm = 0\n",
    "    min = +5000\n",
    "    while i < num_arms:\n",
    "        if diff[i] < min:\n",
    "            min = diff[i]\n",
    "            arm = i\n",
    "        i += 1\n",
    "    return arm\n",
    "\n",
    "def stima_theta():\n",
    "    V = design_matrix(N)\n",
    "    I = np.identity(d)\n",
    "    p = np.linalg.inv(V + nu*I)\n",
    "    sum = 0\n",
    "    for i in range (0, t):\n",
    "        sum += Y[i] * np.array(A[AI[i]].arm_vector)\n",
    "    res = np.matmul(p, sum)\n",
    "    global theta_stimato\n",
    "    theta_stimato = res\n",
    "    return res\n",
    "\n",
    "def best_answer():\n",
    "    max = -100\n",
    "    best = -1\n",
    "    for i in range (0, num_arms):\n",
    "        curr = np.matmul(A[i].arm_vector, theta_stimato)\n",
    "        if curr > max:\n",
    "            max = curr\n",
    "            best = i\n",
    "    global curr_answ\n",
    "    curr_answ = best\n",
    "    return best\n",
    "\n",
    "def best_arm():\n",
    "    max = -100\n",
    "    best = -1\n",
    "    for i in range (0, num_arms):\n",
    "        curr = np.matmul(A[i].arm_vector, Th[theta_vero].vector)\n",
    "        if curr > max:\n",
    "            max = curr\n",
    "            best = i\n",
    "    global curr_answ\n",
    "    curr_answ = best\n",
    "    return best\n",
    "\n",
    "\n",
    "def beta(time, delta):\n",
    "    n = np.abs(np.random.normal(0, 1))\n",
    "    res = math.sqrt(math.log10(1/delta) + d/2*math.log10(1 + (time*(l**2))/(n*d))) + math.sqrt(n/2)*m\n",
    "    return res\n",
    "\n",
    "def best_response():\n",
    "    min = 1000000\n",
    "    theta_adv = -11\n",
    "    for i in range (0, num_theta):\n",
    "        if not i == A[curr_answ].best_theta:\n",
    "            curr = (norm_2_mat(np.array(theta_stimato) - np.array(Th[i].vector), design_matrix(W)))**2\n",
    "            if curr < min:\n",
    "                min = curr\n",
    "                theta_adv = i\n",
    "    return theta_adv\n",
    "\n",
    "def calcola_U (id_arm):\n",
    "    xi = [0]*d\n",
    "    q2 = 4*(l**2)*(m**2)\n",
    "    q1 = 0\n",
    "    p1 = np.matmul((np.array(theta_stimato) - np.array(Th[best_response()].vector)), np.array(A[id_arm].arm_vector))\n",
    "    p2 = math.sqrt(2*beta(T, 1/T**3))*norm_2_mat(np.array(A[id_arm].arm_vector), design_matrix(normalize(N)) + np.random.normal(0, 1)*np.identity(d))\n",
    "    r1 = (p1 + p2)**2\n",
    "    r2 = (p1 - p2)**2\n",
    "    if r1> r2:\n",
    "        q1 = r1\n",
    "    else:\n",
    "        q1 = r2\n",
    "    if q1 > q2:\n",
    "        return q2\n",
    "    else:\n",
    "        return q1\n",
    "\n",
    "def calcola_loss():\n",
    "    loss = 0\n",
    "    arm_play = arm_to_play()\n",
    "    best_res = best_response ()\n",
    "    for i in range (0, num_arms):\n",
    "        loss += W[i]*calcola_U(i)/2\n",
    "    L[arm_play] += (4*(l**2)*(m**2) - loss)/1000\n",
    "    return (4*(l**2)*(m**2) - loss)/1000"
   ]
  },
  {
   "cell_type": "code",
   "execution_count": 2602,
   "metadata": {},
   "outputs": [
    {
     "data": {
      "text/plain": [
       "2"
      ]
     },
     "execution_count": 2602,
     "metadata": {},
     "output_type": "execute_result"
    }
   ],
   "source": [
    "len([0,1])"
   ]
  },
  {
   "cell_type": "code",
   "execution_count": null,
   "metadata": {},
   "outputs": [],
   "source": []
  },
  {
   "cell_type": "code",
   "execution_count": 2603,
   "metadata": {},
   "outputs": [],
   "source": [
    "s = theta([0.1, 0.4, 0.5])\n",
    "p = theta([0.4, 0.6, 0.2])\n",
    "q = theta([0.01, 0.1, 0.8])"
   ]
  },
  {
   "cell_type": "code",
   "execution_count": 2604,
   "metadata": {},
   "outputs": [],
   "source": [
    "a = arm([1,2,3])\n",
    "b = arm([2,5,1])\n",
    "c = arm([1, 3, 1])\n",
    "w = [0.34, 0.33, 0.33]\n",
    "V = design_matrix(w)"
   ]
  },
  {
   "cell_type": "code",
   "execution_count": 2605,
   "metadata": {},
   "outputs": [
    {
     "data": {
      "text/plain": [
       "3.3166247903554"
      ]
     },
     "execution_count": 2605,
     "metadata": {},
     "output_type": "execute_result"
    }
   ],
   "source": [
    "np.linalg.norm(c.arm_vector)"
   ]
  },
  {
   "cell_type": "code",
   "execution_count": 2606,
   "metadata": {},
   "outputs": [
    {
     "name": "stdout",
     "output_type": "stream",
     "text": [
      "2\n",
      "1\n",
      "1\n"
     ]
    }
   ],
   "source": [
    "for i in range (0, num_arms):\n",
    "    print(A[i].best_theta)"
   ]
  },
  {
   "cell_type": "code",
   "execution_count": 2607,
   "metadata": {},
   "outputs": [
    {
     "data": {
      "text/plain": [
       "0"
      ]
     },
     "execution_count": 2607,
     "metadata": {},
     "output_type": "execute_result"
    }
   ],
   "source": [
    "arm_to_play()"
   ]
  },
  {
   "cell_type": "code",
   "execution_count": 2608,
   "metadata": {},
   "outputs": [
    {
     "name": "stdout",
     "output_type": "stream",
     "text": [
      "2.4\n",
      "2.7\n",
      "1.8000000000000003\n"
     ]
    }
   ],
   "source": [
    "for i in range (0, num_arms):\n",
    "    print(np.matmul(A[i].arm_vector, Th[theta_vero].vector))"
   ]
  },
  {
   "cell_type": "code",
   "execution_count": 2609,
   "metadata": {},
   "outputs": [],
   "source": [
    "def h():\n",
    "    return np.dot(W, L)\n",
    "\n",
    "def mix_loss():\n",
    "    sum = 0\n",
    "    for i in range (0, num_arms):\n",
    "        sum += W[i] * math.exp(-eta * L[i])\n",
    "    return -1/eta * np.log(sum)\n",
    "\n",
    "def mixability_gap():\n",
    "    m_g = h() - mix_loss()\n",
    "    Mixability_Gap.append(m_g)\n",
    "\n",
    "def new_eta():\n",
    "    if t>0:\n",
    "        sum = 0\n",
    "        for i in range (0, t):\n",
    "            sum += Mixability_Gap[i]\n",
    "        eta = math.log(d)/sum\n",
    "        \n",
    "def generate_w():\n",
    "    sum=0\n",
    "    for i in range (0, num_arms):\n",
    "        W[i] =math.exp(-eta * L[i])/num_arms\n",
    "        sum += math.exp(-eta * L[i])/num_arms\n",
    "    for i in range (0, num_arms):\n",
    "        W[i] = W[i]/sum\n",
    "    return W"
   ]
  },
  {
   "cell_type": "code",
   "execution_count": null,
   "metadata": {},
   "outputs": [],
   "source": []
  },
  {
   "cell_type": "code",
   "execution_count": null,
   "metadata": {},
   "outputs": [],
   "source": []
  },
  {
   "cell_type": "code",
   "execution_count": 2610,
   "metadata": {},
   "outputs": [
    {
     "data": {
      "text/plain": [
       "2.511656093649707"
      ]
     },
     "execution_count": 2610,
     "metadata": {},
     "output_type": "execute_result"
    }
   ],
   "source": [
    "a.pull_arm()"
   ]
  },
  {
   "cell_type": "code",
   "execution_count": 2611,
   "metadata": {},
   "outputs": [
    {
     "name": "stdout",
     "output_type": "stream",
     "text": [
      "2.53951745565004\n"
     ]
    },
    {
     "data": {
      "text/plain": [
       "3.359821521675436"
      ]
     },
     "execution_count": 2611,
     "metadata": {},
     "output_type": "execute_result"
    }
   ],
   "source": [
    "t += 1\n",
    "stima_theta()\n",
    "best_answer()\n",
    "curr = arm_to_play()\n",
    "generate_w()\n",
    "err = calcola_loss()\n",
    "print(err)\n",
    "A[curr].pull_arm()"
   ]
  },
  {
   "cell_type": "code",
   "execution_count": 2612,
   "metadata": {},
   "outputs": [
    {
     "name": "stdout",
     "output_type": "stream",
     "text": [
      "2.1881655522663803\n"
     ]
    },
    {
     "data": {
      "text/plain": [
       "1.744076970871157"
      ]
     },
     "execution_count": 2612,
     "metadata": {},
     "output_type": "execute_result"
    }
   ],
   "source": [
    "t += 1\n",
    "stima_theta()\n",
    "best_answer()\n",
    "curr = arm_to_play()\n",
    "generate_w()\n",
    "err = calcola_loss()\n",
    "print(err)\n",
    "A[curr].pull_arm()"
   ]
  },
  {
   "cell_type": "code",
   "execution_count": 2613,
   "metadata": {},
   "outputs": [
    {
     "data": {
      "text/plain": [
       "[1, 1, 1]"
      ]
     },
     "execution_count": 2613,
     "metadata": {},
     "output_type": "execute_result"
    }
   ],
   "source": [
    "N"
   ]
  },
  {
   "cell_type": "code",
   "execution_count": 2614,
   "metadata": {},
   "outputs": [
    {
     "data": {
      "text/plain": [
       "array([0.33333333, 0.33333333, 0.33333333])"
      ]
     },
     "execution_count": 2614,
     "metadata": {},
     "output_type": "execute_result"
    }
   ],
   "source": [
    "normalize(N)"
   ]
  },
  {
   "cell_type": "code",
   "execution_count": 2615,
   "metadata": {},
   "outputs": [],
   "source": [
    "for i in range (3000):\n",
    "    t += 1\n",
    "    stima_theta()\n",
    "    best_answer()\n",
    "    curr = arm_to_play()\n",
    "    generate_w()\n",
    "    err = calcola_loss()\n",
    "    A[curr].pull_arm()"
   ]
  },
  {
   "cell_type": "code",
   "execution_count": 2616,
   "metadata": {},
   "outputs": [
    {
     "name": "stdout",
     "output_type": "stream",
     "text": [
      "[0.16657465 0.3749664  0.49970731]\n",
      "[0.1, 0.4, 0.5]\n",
      "1\n",
      "1\n",
      "[0.06713483892723414, 0.8517987400926234, 0.08106642098014245]\n"
     ]
    }
   ],
   "source": [
    "print(theta_stimato)\n",
    "print(Th[theta_vero].vector)\n",
    "print(best_answer())\n",
    "print(best_arm())\n",
    "print(W)"
   ]
  },
  {
   "cell_type": "code",
   "execution_count": 1594,
   "metadata": {},
   "outputs": [
    {
     "data": {
      "text/plain": [
       "[1.9423824444604474, 3.175981218016338]"
      ]
     },
     "execution_count": 1594,
     "metadata": {},
     "output_type": "execute_result"
    }
   ],
   "source": []
  },
  {
   "cell_type": "code",
   "execution_count": 1595,
   "metadata": {},
   "outputs": [
    {
     "data": {
      "text/plain": [
       "4.0553451251167205"
      ]
     },
     "execution_count": 1595,
     "metadata": {},
     "output_type": "execute_result"
    }
   ],
   "source": [
    "b.pull_arm()\n",
    "c.pull_arm()\n",
    "b.pull_arm()"
   ]
  },
  {
   "cell_type": "code",
   "execution_count": 1559,
   "metadata": {},
   "outputs": [
    {
     "data": {
      "text/plain": [
       "[2.359809218555277,\n",
       " 4.131155314683859,\n",
       " 2.904517191004988,\n",
       " 24.914421812754583,\n",
       " 3.7649844287528778]"
      ]
     },
     "execution_count": 1559,
     "metadata": {},
     "output_type": "execute_result"
    }
   ],
   "source": [
    "Y"
   ]
  },
  {
   "cell_type": "code",
   "execution_count": 1560,
   "metadata": {},
   "outputs": [
    {
     "data": {
      "text/plain": [
       "[1, 3, 1]"
      ]
     },
     "execution_count": 1560,
     "metadata": {},
     "output_type": "execute_result"
    }
   ],
   "source": [
    "N"
   ]
  },
  {
   "cell_type": "code",
   "execution_count": 1561,
   "metadata": {},
   "outputs": [],
   "source": [
    "W = [1.1, 2.6, 1.3]"
   ]
  },
  {
   "cell_type": "code",
   "execution_count": 1562,
   "metadata": {
    "scrolled": true
   },
   "outputs": [
    {
     "data": {
      "text/plain": [
       "2"
      ]
     },
     "execution_count": 1562,
     "metadata": {},
     "output_type": "execute_result"
    }
   ],
   "source": [
    "arm_to_play()"
   ]
  },
  {
   "cell_type": "code",
   "execution_count": 1563,
   "metadata": {},
   "outputs": [
    {
     "data": {
      "text/plain": [
       "array([ 2.77437357, -0.06446984, -0.09043354])"
      ]
     },
     "execution_count": 1563,
     "metadata": {},
     "output_type": "execute_result"
    }
   ],
   "source": [
    "t = 4\n",
    "stima_theta()"
   ]
  },
  {
   "cell_type": "code",
   "execution_count": 1564,
   "metadata": {},
   "outputs": [
    {
     "name": "stdout",
     "output_type": "stream",
     "text": [
      "1\n",
      "0\n",
      "0\n"
     ]
    }
   ],
   "source": [
    "for i in range (0, num_arms):\n",
    "    print(best_response(i))"
   ]
  },
  {
   "cell_type": "code",
   "execution_count": 1565,
   "metadata": {},
   "outputs": [
    {
     "data": {
      "text/plain": [
       "1"
      ]
     },
     "execution_count": 1565,
     "metadata": {},
     "output_type": "execute_result"
    }
   ],
   "source": [
    "best_response(0)"
   ]
  },
  {
   "cell_type": "code",
   "execution_count": 1566,
   "metadata": {},
   "outputs": [
    {
     "data": {
      "text/plain": [
       "array([ 0.6, -0.1,  0.3])"
      ]
     },
     "execution_count": 1566,
     "metadata": {},
     "output_type": "execute_result"
    }
   ],
   "source": [
    "np.array(theta_stimato) - np.array(Th[best_response(0)].vector)"
   ]
  },
  {
   "cell_type": "code",
   "execution_count": 1567,
   "metadata": {},
   "outputs": [
    {
     "data": {
      "text/plain": [
       "array([1, 2, 3])"
      ]
     },
     "execution_count": 1567,
     "metadata": {},
     "output_type": "execute_result"
    }
   ],
   "source": [
    "np.array(A[0].arm_vector)"
   ]
  },
  {
   "cell_type": "code",
   "execution_count": 1568,
   "metadata": {},
   "outputs": [
    {
     "data": {
      "text/plain": [
       "1.2999999999999998"
      ]
     },
     "execution_count": 1568,
     "metadata": {},
     "output_type": "execute_result"
    }
   ],
   "source": [
    "p1 = np.matmul((np.array(theta_stimato) - np.array(Th[best_response(0)].vector)), np.array(A[0].arm_vector))\n",
    "p1"
   ]
  },
  {
   "cell_type": "code",
   "execution_count": 1569,
   "metadata": {},
   "outputs": [
    {
     "data": {
      "text/plain": [
       "3.8072546006004324"
      ]
     },
     "execution_count": 1569,
     "metadata": {},
     "output_type": "execute_result"
    }
   ],
   "source": [
    "math.sqrt(2*beta(t, 1/t**3))"
   ]
  },
  {
   "cell_type": "code",
   "execution_count": 1570,
   "metadata": {},
   "outputs": [
    {
     "data": {
      "text/plain": [
       "3.9841738037605214"
      ]
     },
     "execution_count": 1570,
     "metadata": {},
     "output_type": "execute_result"
    }
   ],
   "source": [
    "np.sqrt(2*beta(t, 1/t**3))"
   ]
  },
  {
   "cell_type": "code",
   "execution_count": 1571,
   "metadata": {},
   "outputs": [],
   "source": [
    "k = 1000\n",
    "time = k\n",
    "delta = 1/k**3\n"
   ]
  },
  {
   "cell_type": "code",
   "execution_count": 1572,
   "metadata": {},
   "outputs": [
    {
     "data": {
      "text/plain": [
       "1.3485216370993358"
      ]
     },
     "execution_count": 1572,
     "metadata": {},
     "output_type": "execute_result"
    }
   ],
   "source": [
    "n = np.abs(np.random.normal(0, 1))\n",
    "n"
   ]
  },
  {
   "cell_type": "code",
   "execution_count": 1573,
   "metadata": {},
   "outputs": [
    {
     "data": {
      "text/plain": [
       "3.0"
      ]
     },
     "execution_count": 1573,
     "metadata": {},
     "output_type": "execute_result"
    }
   ],
   "source": [
    "math.sqrt(math.log10(1/delta))"
   ]
  },
  {
   "cell_type": "code",
   "execution_count": 1574,
   "metadata": {},
   "outputs": [
    {
     "data": {
      "text/plain": [
       "6.589557593201865"
      ]
     },
     "execution_count": 1574,
     "metadata": {},
     "output_type": "execute_result"
    }
   ],
   "source": [
    "d/2*math.log10(1 + (time*(l**2))/(n*d))"
   ]
  },
  {
   "cell_type": "code",
   "execution_count": 1575,
   "metadata": {},
   "outputs": [
    {
     "data": {
      "text/plain": [
       "8.211338615290858"
      ]
     },
     "execution_count": 1575,
     "metadata": {},
     "output_type": "execute_result"
    }
   ],
   "source": [
    "math.sqrt(n/2)*m"
   ]
  },
  {
   "cell_type": "code",
   "execution_count": 1576,
   "metadata": {},
   "outputs": [
    {
     "data": {
      "text/plain": [
       "7.45007683426267"
      ]
     },
     "execution_count": 1576,
     "metadata": {},
     "output_type": "execute_result"
    }
   ],
   "source": [
    "beta(k, 1/k**3)"
   ]
  },
  {
   "cell_type": "code",
   "execution_count": 1577,
   "metadata": {},
   "outputs": [],
   "source": [
    "p2 = np.sqrt(2*beta(t, 1/t**3))*norm_2_mat(np.array(A[0].arm_vector), design_matrix(N) + np.random.normal(0, 1)*np.identity(d))"
   ]
  },
  {
   "cell_type": "code",
   "execution_count": 1578,
   "metadata": {},
   "outputs": [
    {
     "data": {
      "text/plain": [
       "269601.97156973823"
      ]
     },
     "execution_count": 1578,
     "metadata": {},
     "output_type": "execute_result"
    }
   ],
   "source": [
    "calcola_U(0, 2)"
   ]
  },
  {
   "cell_type": "code",
   "execution_count": 1579,
   "metadata": {},
   "outputs": [
    {
     "data": {
      "text/plain": [
       "649542.4283968954"
      ]
     },
     "execution_count": 1579,
     "metadata": {},
     "output_type": "execute_result"
    }
   ],
   "source": [
    "calcola_U(1, 2)"
   ]
  },
  {
   "cell_type": "code",
   "execution_count": 1580,
   "metadata": {},
   "outputs": [
    {
     "data": {
      "text/plain": [
       "32689597.500705175"
      ]
     },
     "execution_count": 1580,
     "metadata": {},
     "output_type": "execute_result"
    }
   ],
   "source": [
    "calcola_U(2, 2)"
   ]
  },
  {
   "cell_type": "code",
   "execution_count": 1581,
   "metadata": {},
   "outputs": [],
   "source": [
    "for i in range (0 , T//3 - t):\n",
    "    a.pull_arm()\n",
    "    b.pull_arm()\n",
    "    c.pull_arm()\n",
    "    t += 3"
   ]
  },
  {
   "cell_type": "code",
   "execution_count": 1582,
   "metadata": {},
   "outputs": [
    {
     "data": {
      "text/plain": [
       "array([0.40123031, 0.59863247, 0.20280594])"
      ]
     },
     "execution_count": 1582,
     "metadata": {},
     "output_type": "execute_result"
    }
   ],
   "source": [
    "\n",
    "stima_theta()"
   ]
  },
  {
   "cell_type": "code",
   "execution_count": 1583,
   "metadata": {
    "scrolled": true
   },
   "outputs": [
    {
     "name": "stdout",
     "output_type": "stream",
     "text": [
      "1\n",
      "0\n",
      "0\n"
     ]
    }
   ],
   "source": [
    "for i in range (0, num_arms):\n",
    "    print(best_response(i))"
   ]
  },
  {
   "cell_type": "code",
   "execution_count": 1584,
   "metadata": {},
   "outputs": [
    {
     "name": "stdout",
     "output_type": "stream",
     "text": [
      "2.2\n",
      "3.6\n",
      "24.0\n"
     ]
    }
   ],
   "source": [
    "for i in range (0, num_arms):\n",
    "    print(np.matmul(A[i].arm_vector, Th[theta_vero].vector))"
   ]
  },
  {
   "cell_type": "code",
   "execution_count": null,
   "metadata": {},
   "outputs": [],
   "source": []
  },
  {
   "cell_type": "code",
   "execution_count": 1585,
   "metadata": {
    "scrolled": true
   },
   "outputs": [
    {
     "name": "stdout",
     "output_type": "stream",
     "text": [
      "63.064612560315304\n",
      "462.9371160274454\n",
      "16389.492404270248\n"
     ]
    }
   ],
   "source": [
    "for i in range (0, num_arms):\n",
    "    print(calcola_U(i, best_response(i))/100000000)"
   ]
  },
  {
   "cell_type": "code",
   "execution_count": null,
   "metadata": {},
   "outputs": [],
   "source": []
  },
  {
   "cell_type": "code",
   "execution_count": null,
   "metadata": {},
   "outputs": [],
   "source": []
  }
 ],
 "metadata": {
  "kernelspec": {
   "display_name": "Python 3",
   "language": "python",
   "name": "python3"
  },
  "language_info": {
   "codemirror_mode": {
    "name": "ipython",
    "version": 3
   },
   "file_extension": ".py",
   "mimetype": "text/x-python",
   "name": "python",
   "nbconvert_exporter": "python",
   "pygments_lexer": "ipython3",
   "version": "3.7.6"
  }
 },
 "nbformat": 4,
 "nbformat_minor": 2
}
